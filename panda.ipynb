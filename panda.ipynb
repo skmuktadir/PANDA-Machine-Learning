{
 "cells": [
  {
   "cell_type": "code",
   "execution_count": 1,
   "id": "08454d96-74ba-4707-9144-e7fd9f0fb32e",
   "metadata": {},
   "outputs": [
    {
     "name": "stdout",
     "output_type": "stream",
     "text": [
      "Be hungry and be foolish\n"
     ]
    }
   ],
   "source": [
    "print('Be hungry and be foolish')"
   ]
  },
  {
   "cell_type": "code",
   "execution_count": null,
   "id": "638c8142-fc13-4dc5-b2e2-ad76292f907d",
   "metadata": {},
   "outputs": [],
   "source": []
  }
 ],
 "metadata": {
  "kernelspec": {
   "display_name": "Python 3 (ipykernel)",
   "language": "python",
   "name": "python3"
  },
  "language_info": {
   "codemirror_mode": {
    "name": "ipython",
    "version": 3
   },
   "file_extension": ".py",
   "mimetype": "text/x-python",
   "name": "python",
   "nbconvert_exporter": "python",
   "pygments_lexer": "ipython3",
   "version": "3.11.7"
  }
 },
 "nbformat": 4,
 "nbformat_minor": 5
}
